{
  "nbformat": 4,
  "nbformat_minor": 0,
  "metadata": {
    "colab": {
      "provenance": [],
      "authorship_tag": "ABX9TyM3510OL7NITwW5eI9HxIxb",
      "include_colab_link": true
    },
    "kernelspec": {
      "name": "python3",
      "display_name": "Python 3"
    },
    "language_info": {
      "name": "python"
    }
  },
  "cells": [
    {
      "cell_type": "markdown",
      "metadata": {
        "id": "view-in-github",
        "colab_type": "text"
      },
      "source": [
        "<a href=\"https://colab.research.google.com/github/Natalia-S-Pereira/Big_Data_Academy/blob/main/C%C3%B3pia_de_Case_Natalia_Pereira.ipynb\" target=\"_parent\"><img src=\"https://colab.research.google.com/assets/colab-badge.svg\" alt=\"Open In Colab\"/></a>"
      ]
    },
    {
      "cell_type": "code",
      "source": [
        "import random\n",
        "\n",
        "class SnakesAndLadders:\n",
        "    def __init__(self):\n",
        "        self.board = {\n",
        "            3: 16, 5: 7, 15: 25, 18: 20, 21: 32,   # Ladders\n",
        "            12: 2, 14: 11, 17: 4, 31: 19, 35: 22   # Snakes\n",
        "        }\n",
        "        self.win_square = 36\n",
        "\n",
        "    def roll_dice(self):\n",
        "        return random.randint(1, 6)\n",
        "\n",
        "    def move(self, current_square, dice_roll):\n",
        "        new_square = current_square + dice_roll\n",
        "        if new_square in self.board:\n",
        "            new_square = self.board[new_square]\n",
        "        return new_square if new_square <= self.win_square else current_square\n",
        "\n",
        "def simulate_game():\n",
        "    game = SnakesAndLadders()\n",
        "    current_square_p1 = 1\n",
        "    current_square_p2 = 1\n",
        "\n",
        "    while True:\n",
        "        dice_roll_p1 = game.roll_dice()\n",
        "        current_square_p1 = game.move(current_square_p1, dice_roll_p1)\n",
        "        if current_square_p1 == game.win_square:\n",
        "            return True\n",
        "        dice_roll_p2 = game.roll_dice()\n",
        "        current_square_p2 = game.move(current_square_p2, dice_roll_p2)\n",
        "        if current_square_p2 == game.win_square:\n",
        "            return False\n",
        "\n",
        "def calculate_probability_player1_wins():\n",
        "    player1_wins = sum(simulate_game() for _ in range(10000))\n",
        "    return player1_wins / 10000\n",
        "\n",
        "print(\"Probability that the player who starts the game wins:\", calculate_probability_player1_wins())\n"
      ],
      "metadata": {
        "colab": {
          "base_uri": "https://localhost:8080/"
        },
        "id": "mC1IPn6MLEo3",
        "outputId": "e5f35351-8116-465c-b543-693a877a5d14"
      },
      "execution_count": null,
      "outputs": [
        {
          "output_type": "stream",
          "name": "stdout",
          "text": [
            "Probability that the player who starts the game wins: 0.5096\n"
          ]
        }
      ]
    },
    {
      "cell_type": "code",
      "source": [
        "import random\n",
        "\n",
        "class SnakesAndLadders:\n",
        "    def __init__(self):\n",
        "        self.board = {\n",
        "            3: 16, 5: 7, 15: 25, 18: 20, 21: 32,   # Ladders\n",
        "            12: 2, 14: 11, 17: 4, 31: 19, 35: 22   # Snakes\n",
        "        }\n",
        "        self.win_square = 36\n",
        "\n",
        "    def roll_dice(self):\n",
        "        return random.randint(1, 6)\n",
        "\n",
        "    def move(self, current_square, dice_roll):\n",
        "        new_square = current_square + dice_roll\n",
        "        if new_square in self.board:\n",
        "            new_square = self.board[new_square]\n",
        "        return new_square if new_square <= self.win_square else current_square\n",
        "\n",
        "def simulate_game():\n",
        "    game = SnakesAndLadders()\n",
        "    current_square_p1 = 1\n",
        "    current_square_p2 = 1\n",
        "\n",
        "    while True:\n",
        "        dice_roll_p1 = game.roll_dice()\n",
        "        current_square_p1 = game.move(current_square_p1, dice_roll_p1)\n",
        "        if current_square_p1 == game.win_square:\n",
        "            return True\n",
        "        dice_roll_p2 = game.roll_dice()\n",
        "        current_square_p2 = game.move(current_square_p2, dice_roll_p2)\n",
        "        if current_square_p2 == game.win_square:\n",
        "            return False\n",
        "\n",
        "def simulate_game_count_snakes_landed():\n",
        "     game = SnakesAndLadders()\n",
        "     current_square_p1 = 1\n",
        "     snakes_landed_on = 0\n",
        "     while current_square_p1 < game.win_square:\n",
        "        dice_roll_p1 = game.roll_dice()\n",
        "        current_square_p1 = game.move(current_square_p1, dice_roll_p1)\n",
        "        if current_square_p1 != game.win_square and current_square_p1 in game.board.values():\n",
        "            snakes_landed_on += 1\n",
        "            return snakes_landed_on\n",
        "\n",
        "def calculate_average_snakes_landed():\n",
        "    total_snakes_landed = sum(simulate_game_count_snakes_landed() for _ in range(10000))\n",
        "    return total_snakes_landed / 10000\n",
        "\n",
        "print(\"Average number of snakes landed on in each game:\", calculate_average_snakes_landed())\n",
        "\n"
      ],
      "metadata": {
        "colab": {
          "base_uri": "https://localhost:8080/"
        },
        "id": "0S-yiSvajKfA",
        "outputId": "2dc36785-bbb3-4e1d-d3be-2ae2a8e2c3eb"
      },
      "execution_count": null,
      "outputs": [
        {
          "output_type": "stream",
          "name": "stdout",
          "text": [
            "Average number of snakes landed on in each game: 1.0\n"
          ]
        }
      ]
    },
    {
      "cell_type": "code",
      "source": [
        "def simulate_game_with_starting_position(start_square):\n",
        "    game = SnakesAndLadders()\n",
        "    current_square_p1 = 1\n",
        "    current_square_p2 = start_square\n",
        "\n",
        "    while True:\n",
        "        dice_roll_p1 = game.roll_dice()\n",
        "        current_square_p1 = game.move(current_square_p1, dice_roll_p1)\n",
        "        if current_square_p1 == game.win_square:\n",
        "            return True\n",
        "        dice_roll_p2 = game.roll_dice()\n",
        "        current_square_p2 = game.move(current_square_p2, dice_roll_p2)\n",
        "        if current_square_p2 == game.win_square:\n",
        "            return False\n",
        "\n",
        "def find_optimal_starting_square():\n",
        "    min_difference = float('inf')\n",
        "    optimal_start_square = None\n",
        "\n",
        "    for start_square in range(2, 36):\n",
        "        p2_wins = sum(simulate_game_with_starting_position(start_square) for _ in range(10000))\n",
        "        p1_wins = 10000 - p2_wins\n",
        "        difference = abs(p1_wins - p2_wins)\n",
        "        if difference < min_difference:\n",
        "            min_difference = difference\n",
        "            optimal_start_square = start_square\n",
        "\n",
        "    return optimal_start_square\n",
        "\n",
        "print(\"Optimal starting square for Player 2:\", find_optimal_starting_square())\n"
      ],
      "metadata": {
        "colab": {
          "base_uri": "https://localhost:8080/"
        },
        "id": "gKd1v3idkaBo",
        "outputId": "2ae6bd8b-7e78-43ac-d479-c5fa13d9a770"
      },
      "execution_count": null,
      "outputs": [
        {
          "output_type": "stream",
          "name": "stdout",
          "text": [
            "Optimal starting square for Player 2: 7\n"
          ]
        }
      ]
    },
    {
      "cell_type": "code",
      "source": [
        "def simulate_game_with_immunity():\n",
        "    game = SnakesAndLadders()\n",
        "    current_square_p1 = 1\n",
        "    current_square_p2 = 1\n",
        "    p2_immunity = True\n",
        "\n",
        "    while True:\n",
        "        dice_roll_p1 = game.roll_dice()\n",
        "        current_square_p1 = game.move(current_square_p1, dice_roll_p1)\n",
        "        if current_square_p1 == game.win_square:\n",
        "            return True\n",
        "        dice_roll_p2 = game.roll_dice()\n",
        "        current_square_p2 = game.move(current_square_p2, dice_roll_p2)\n",
        "        if current_square_p2 in game.board.values() and p2_immunity:\n",
        "            p2_immunity = False\n",
        "        else:\n",
        "            if current_square_p2 == game.win_square:\n",
        "                return False\n",
        "\n",
        "def calculate_probability_player1_wins_with_immunity():\n",
        "    player1_wins = sum(simulate_game_with_immunity() for _ in range(10000))\n",
        "    return player1_wins / 10000\n",
        "\n",
        "print(\"Probability that Player 1 wins with Player 2 having immunity to the first snake they land on:\", calculate_probability_player1_wins_with_immunity())\n"
      ],
      "metadata": {
        "colab": {
          "base_uri": "https://localhost:8080/"
        },
        "id": "bcRz3RRgkv22",
        "outputId": "f500093c-424d-478b-c8a3-d21d946af013"
      },
      "execution_count": null,
      "outputs": [
        {
          "output_type": "stream",
          "name": "stdout",
          "text": [
            "Probability that Player 1 wins with Player 2 having immunity to the first snake they land on: 0.52\n"
          ]
        }
      ]
    },
    {
      "cell_type": "code",
      "source": [
        "def simulate_game_with_ladder_chance():\n",
        "    game = SnakesAndLadders()\n",
        "    current_square_p1 = 1\n",
        "    ladder_chance = 0.5\n",
        "    rolls_needed = 0\n",
        "\n",
        "    while True:\n",
        "        rolls_needed += 1\n",
        "        dice_roll_p1 = game.roll_dice()\n",
        "        current_square_p1 = game.move(current_square_p1, dice_roll_p1)\n",
        "        if current_square_p1 == game.win_square:\n",
        "            return rolls_needed\n",
        "        if current_square_p1 in game.board.keys() and random.random() < ladder_chance:\n",
        "            current_square_p1 = game.board[current_square_p1]\n",
        "\n",
        "def calculate_average_rolls_needed():\n",
        "    total_rolls_needed = sum(simulate_game_with_ladder_chance() for _ in range(10000))\n",
        "    return total_rolls_needed / 10000\n",
        "\n",
        "print(\"Average number of rolls needed to complete a game with a 50% chance of taking a ladder:\", calculate_average_rolls_needed())\n"
      ],
      "metadata": {
        "colab": {
          "base_uri": "https://localhost:8080/"
        },
        "id": "67RSQJ8ek30W",
        "outputId": "9be49aeb-d9b3-46c1-b198-b16cd5513d7b"
      },
      "execution_count": null,
      "outputs": [
        {
          "output_type": "stream",
          "name": "stdout",
          "text": [
            "Average number of rolls needed to complete a game with a 50% chance of taking a ladder: 20.2065\n"
          ]
        }
      ]
    }
  ]
}